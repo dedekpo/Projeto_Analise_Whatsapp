{
 "cells": [
  {
   "cell_type": "code",
   "execution_count": null,
   "metadata": {},
   "outputs": [],
   "source": [
    "import pandas as pd\n",
    "import numpy as np\n",
    "import seaborn as sns\n",
    "import matplotlib.pyplot as plt\n",
    "import re\n",
    "import datetime\n",
    "from matplotlib.colors import ListedColormap\n",
    "from wordcloud import WordCloud\n",
    "import nltk\n",
    "from nltk.corpus import stopwords\n",
    "import emoji\n",
    "from PIL import Image"
   ]
  },
  {
   "cell_type": "code",
   "execution_count": null,
   "metadata": {},
   "outputs": [],
   "source": [
    "pat = re.compile(r'^(\\d\\d\\/\\d\\d\\/\\d\\d\\d\\d.*?)(?=^^\\d\\d\\/\\d\\d\\/\\d\\d\\d\\d|\\Z)', re.S | re.M)\n",
    "with open(\"Conversa.txt\",\"r\", encoding=\"utf8\") as f:\n",
    "    data = [m.group(1).strip().replace('\\n', ' ') for m in pat.finditer(f.read())]"
   ]
  },
  {
   "cell_type": "code",
   "execution_count": null,
   "metadata": {},
   "outputs": [],
   "source": [
    "data.pop(0)"
   ]
  },
  {
   "cell_type": "code",
   "execution_count": null,
   "metadata": {},
   "outputs": [],
   "source": [
    "sender = []; message = []; datetime = []\n",
    "for row in data:\n",
    "\n",
    "    datetime.append(row.split(' - ')[0])\n",
    "\n",
    "    try:\n",
    "        s = re.search('- (.*?):', row).group(1)\n",
    "        sender.append(s)\n",
    "    except:\n",
    "        sender.append('')\n",
    "\n",
    "    try:\n",
    "        message.append(row.split(': ', 1)[1])\n",
    "    except:\n",
    "        message.append('')\n",
    "    "
   ]
  },
  {
   "cell_type": "code",
   "execution_count": null,
   "metadata": {},
   "outputs": [],
   "source": [
    "df = pd.DataFrame(zip(datetime, sender, message), columns=['datetime', 'sender', 'message'])\n",
    "df['datetime'] = pd.to_datetime(df.datetime, format='%d/%m/%Y %H:%M')"
   ]
  },
  {
   "cell_type": "code",
   "execution_count": null,
   "metadata": {},
   "outputs": [],
   "source": [
    "numMessage = df.groupby(['sender'])['message'].count().reset_index()"
   ]
  },
  {
   "cell_type": "code",
   "execution_count": null,
   "metadata": {},
   "outputs": [],
   "source": [
    "#coloque seu nome e o da outra pessoa aqui\n",
    "names = df['sender'].unique()\n",
    "yourName = names[0]\n",
    "hisName = names[1]"
   ]
  },
  {
   "cell_type": "code",
   "execution_count": null,
   "metadata": {},
   "outputs": [],
   "source": [
    "df['date'] = df['datetime'].dt.date\n",
    "df['time'] = df['datetime'].dt.time\n",
    "df['weekDay'] = df['datetime'].dt.dayofweek\n",
    "df['timeHour'] = df['datetime'].dt.hour"
   ]
  },
  {
   "cell_type": "code",
   "execution_count": null,
   "metadata": {},
   "outputs": [],
   "source": [
    "df['weekDay'] = df['weekDay'].replace({0: 'Segunda', 1: 'Terça', 2: 'Quarta', 3: 'Quinta', 4: 'Sexta', 5: 'Sábado', 6: 'Domingo'})"
   ]
  },
  {
   "cell_type": "code",
   "execution_count": null,
   "metadata": {},
   "outputs": [],
   "source": [
    "df['message'] = df['message'].replace({'<Arquivo de mídia oculto>':'-MÍDIA-'})"
   ]
  },
  {
   "cell_type": "code",
   "execution_count": null,
   "metadata": {},
   "outputs": [],
   "source": [
    "ax = sns.barplot(x=\"message\", y=\"sender\", data=numMessage)\n",
    "ax.set(xlabel='Mensagens enviadas', ylabel='Remetente')\n",
    "sns.set(style=\"white\", context=\"talk\")\n",
    "plt.figure(figsize=(15,4))"
   ]
  },
  {
   "cell_type": "code",
   "execution_count": null,
   "metadata": {},
   "outputs": [],
   "source": [
    "numMessageDay = df.groupby(['date'])['message'].count().reset_index()"
   ]
  },
  {
   "cell_type": "code",
   "execution_count": null,
   "metadata": {},
   "outputs": [],
   "source": [
    "plt.figure(figsize=(15,4))\n",
    "ax = sns.lineplot(data=numMessageDay, x=\"date\", y=\"message\", linewidth=5)\n",
    "ax.set(xlabel='Data', ylabel='Mensagens por dia')\n",
    "plt.setp(ax.get_xticklabels(), rotation=45)"
   ]
  },
  {
   "cell_type": "code",
   "execution_count": null,
   "metadata": {},
   "outputs": [],
   "source": [
    "numMessageHour = df.groupby(['timeHour'])['message'].count().reset_index()"
   ]
  },
  {
   "cell_type": "code",
   "execution_count": null,
   "metadata": {},
   "outputs": [],
   "source": [
    "plt.figure(figsize=(7,7))\n",
    "\n",
    "ax = sns.barplot(data=numMessageHour, x=\"timeHour\", y=\"message\")\n",
    "ax.set(xlabel='Hora do dia', ylabel='Mensagens')\n",
    "sns.set(style=\"white\", context=\"talk\")"
   ]
  },
  {
   "cell_type": "code",
   "execution_count": null,
   "metadata": {},
   "outputs": [],
   "source": [
    "numMessageWeek = df.groupby(['weekDay'])['message'].count().reset_index()\n",
    "numMessageWeek['weekDay'] = pd.Categorical(numMessageWeek['weekDay'], categories=\n",
    "    ['Segunda','Terça','Quarta','Quinta','Sexta','Sábado', 'Domingo'],\n",
    "    ordered=True)"
   ]
  },
  {
   "cell_type": "code",
   "execution_count": null,
   "metadata": {},
   "outputs": [],
   "source": [
    "plt.figure(figsize=(15,4))\n",
    "sns.set(style=\"white\", context=\"talk\")\n",
    "ax = sns.barplot(data=numMessageWeek, x=\"message\", y=\"weekDay\")\n",
    "ax.set(xlabel='Dia da semana', ylabel='Mensagens')"
   ]
  },
  {
   "cell_type": "code",
   "execution_count": null,
   "metadata": {},
   "outputs": [],
   "source": [
    "df['characters'] = df.message.apply(len)\n",
    "df['words'] = df.message.apply(lambda x: len(x.split()))"
   ]
  },
  {
   "cell_type": "code",
   "execution_count": null,
   "metadata": {},
   "outputs": [],
   "source": [
    "textMean = df.groupby(['sender'])['characters', 'words'].mean().round(2).reset_index()"
   ]
  },
  {
   "cell_type": "code",
   "execution_count": null,
   "metadata": {},
   "outputs": [],
   "source": [
    "ax = sns.barplot(x=\"characters\", y=\"sender\", data=textMean)\n",
    "ax.set(xlabel='Média de caracteres por msg', ylabel='Remetente')"
   ]
  },
  {
   "cell_type": "code",
   "execution_count": null,
   "metadata": {},
   "outputs": [],
   "source": [
    "ax = sns.barplot(x=\"words\", y=\"sender\", data=textMean)\n",
    "ax.set(xlabel='Média de palavras por msg', ylabel='Remetente')"
   ]
  },
  {
   "cell_type": "code",
   "execution_count": null,
   "metadata": {},
   "outputs": [],
   "source": [
    "yourWords = []; hisWords = []\n",
    "for x in range(len(df['sender'])):\n",
    "    if df['sender'][x] == yourName:\n",
    "        yourWords.append(df['message'][x])\n",
    "    elif df['sender'][x] == hisName:\n",
    "        hisWords.append(df['message'][x])"
   ]
  },
  {
   "cell_type": "code",
   "execution_count": null,
   "metadata": {},
   "outputs": [],
   "source": [
    "len(yourWords)"
   ]
  },
  {
   "cell_type": "code",
   "execution_count": null,
   "metadata": {},
   "outputs": [],
   "source": [
    "len(hisWords)"
   ]
  },
  {
   "cell_type": "code",
   "execution_count": null,
   "metadata": {},
   "outputs": [],
   "source": [
    "s = ' '\n",
    "totalYourWords = s.join(yourWords)\n",
    "totalHisWords = s.join(hisWords)"
   ]
  },
  {
   "cell_type": "code",
   "execution_count": null,
   "metadata": {},
   "outputs": [],
   "source": [
    "pattern = re.compile('k*|-MÍDIA-|Kk*')\n",
    "totalYourWords = pattern.sub('', totalYourWords)\n",
    "totalHisWords = pattern.sub('', totalHisWords)"
   ]
  },
  {
   "cell_type": "code",
   "execution_count": null,
   "metadata": {},
   "outputs": [],
   "source": [
    "stopWords = stopwords.words('portuguese')\n",
    "newStop = ['pra', 'tô', 'aí', 'tá', 'então', 'deu', 'aqui', 'né', 'vou', 'bem', 'coisa', 'tmb', 'vai']\n",
    "for x in newStop:\n",
    "    stopWords.append(x)"
   ]
  },
  {
   "cell_type": "code",
   "execution_count": null,
   "metadata": {},
   "outputs": [],
   "source": [
    "mapaCores = ListedColormap(['red', 'magenta', 'blue', 'green'])\n",
    "\n",
    "mask = np.array(Image.open('mask-cloud.png'))\n",
    "\n",
    "nuvem = WordCloud(width=1000, height=600,\n",
    "                  background_color = 'white',\n",
    "                 colormap = mapaCores,\n",
    "                 stopwords = stopWords,\n",
    "                 max_words = 60,\n",
    "                 mask = mask)\n",
    "nuvem.generate(totalYourWords)\n",
    "plt.figure(figsize = (10,10))\n",
    "plt.imshow(nuvem)"
   ]
  },
  {
   "cell_type": "code",
   "execution_count": null,
   "metadata": {},
   "outputs": [],
   "source": [
    "mapaCores = ListedColormap(['red', 'magenta', 'blue', 'green'])\n",
    "\n",
    "nuvem = WordCloud(width=1000, height=600,\n",
    "                  background_color = 'white',\n",
    "                 colormap = mapaCores,\n",
    "                 stopwords = stopWords,\n",
    "                 max_words = 60,\n",
    "                 mask = mask)\n",
    "nuvem.generate(totalHisWords)\n",
    "plt.figure(figsize = (10,10))\n",
    "plt.imshow(nuvem)"
   ]
  },
  {
   "cell_type": "code",
   "execution_count": null,
   "metadata": {},
   "outputs": [],
   "source": [
    "yourEmoji = list(''.join(c for c in totalYourWords if c in emoji.UNICODE_EMOJI))\n",
    "\n",
    "countYourEmoji = {i:yourEmoji.count(i) for i in yourEmoji}"
   ]
  },
  {
   "cell_type": "code",
   "execution_count": null,
   "metadata": {},
   "outputs": [],
   "source": [
    "hisEmoji = list(''.join(c for c in totalHisWords if c in emoji.UNICODE_EMOJI))\n",
    "\n",
    "countHisEmoji = {i:hisEmoji .count(i) for i in hisEmoji }"
   ]
  },
  {
   "cell_type": "code",
   "execution_count": null,
   "metadata": {},
   "outputs": [],
   "source": [
    "dfYourEmoji = pd.DataFrame(countYourEmoji.items(), columns=['Emoji', 'Count'])\n",
    "\n",
    "dfYourEmoji = dfYourEmoji.sort_values(by=['Count'], ascending = False)\n",
    "\n",
    "dfYourEmoji"
   ]
  },
  {
   "cell_type": "code",
   "execution_count": null,
   "metadata": {},
   "outputs": [],
   "source": [
    "dfHisEmoji = pd.DataFrame(countHisEmoji.items(), columns=['Emoji', 'Count'])\n",
    "\n",
    "dfHisEmoji = dfHisEmoji.sort_values(by=['Count'], ascending = False)\n",
    "\n",
    "\n",
    "dfHisEmoji"
   ]
  }
 ],
 "metadata": {
  "kernelspec": {
   "display_name": "Python 3",
   "language": "python",
   "name": "python3"
  },
  "language_info": {
   "codemirror_mode": {
    "name": "ipython",
    "version": 3
   },
   "file_extension": ".py",
   "mimetype": "text/x-python",
   "name": "python",
   "nbconvert_exporter": "python",
   "pygments_lexer": "ipython3",
   "version": "3.7.9"
  }
 },
 "nbformat": 4,
 "nbformat_minor": 2
}
